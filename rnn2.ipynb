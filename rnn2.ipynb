{
  "cells": [
    {
      "cell_type": "markdown",
      "metadata": {
        "id": "view-in-github",
        "colab_type": "text"
      },
      "source": [
        "<a href=\"https://colab.research.google.com/github/kareem-project/Dissertation-Project/blob/main/rnn2.ipynb\" target=\"_parent\"><img src=\"https://colab.research.google.com/assets/colab-badge.svg\" alt=\"Open In Colab\"/></a>"
      ]
    },
    {
      "cell_type": "code",
      "execution_count": null,
      "metadata": {
        "id": "7Q6IF704JRdd"
      },
      "outputs": [],
      "source": [
        "%matplotlib inline\n",
        "from matplotlib import pyplot as plt\n",
        "import cv2\n",
        "import numpy as np\n",
        "import tensorflow as tf\n",
        "from google.colab.patches import cv2_imshow\n",
        "\n",
        "from tensorflow import keras\n",
        "from tensorflow.keras import layers"
      ]
    },
    {
      "cell_type": "code",
      "execution_count": null,
      "metadata": {
        "colab": {
          "base_uri": "https://localhost:8080/"
        },
        "id": "mBsAN7l_JVAy",
        "outputId": "5a06c5f4-d86b-4028-d0b8-a6fbfabec066"
      },
      "outputs": [
        {
          "output_type": "stream",
          "name": "stdout",
          "text": [
            "Mounted at /content/drive/\n"
          ]
        }
      ],
      "source": [
        "from google.colab import drive\n",
        "drive.mount(\"/content/drive/\")"
      ]
    },
    {
      "cell_type": "code",
      "execution_count": null,
      "metadata": {
        "id": "Tb9S467fJX1P"
      },
      "outputs": [],
      "source": [
        "import pandas as pd\n",
        "\n",
        "df = pd.read_csv(\"/content/drive/MyDrive/Dissertation/sudoku.csv\", sep=',')"
      ]
    },
    {
      "cell_type": "code",
      "execution_count": null,
      "metadata": {
        "colab": {
          "base_uri": "https://localhost:8080/",
          "height": 226
        },
        "id": "hsawm-UDLLqX",
        "outputId": "e8dbd2f5-6aad-43b4-93a8-924a097e9074"
      },
      "outputs": [
        {
          "ename": "TypeError",
          "evalue": "ignored",
          "output_type": "error",
          "traceback": [
            "\u001b[0;31m---------------------------------------------------------------------------\u001b[0m",
            "\u001b[0;31mTypeError\u001b[0m                                 Traceback (most recent call last)",
            "\u001b[0;32m<ipython-input-29-8ed92ece1680>\u001b[0m in \u001b[0;36m<cell line: 9>\u001b[0;34m()\u001b[0m\n\u001b[1;32m     12\u001b[0m         \u001b[0;32mif\u001b[0m \u001b[0mvalue\u001b[0m \u001b[0;34m!=\u001b[0m \u001b[0;36m0\u001b[0m\u001b[0;34m:\u001b[0m\u001b[0;34m\u001b[0m\u001b[0;34m\u001b[0m\u001b[0m\n\u001b[1;32m     13\u001b[0m             \u001b[0mrow\u001b[0m\u001b[0;34m,\u001b[0m \u001b[0mcol\u001b[0m \u001b[0;34m=\u001b[0m \u001b[0mdivmod\u001b[0m\u001b[0;34m(\u001b[0m\u001b[0mj\u001b[0m\u001b[0;34m,\u001b[0m \u001b[0;36m9\u001b[0m\u001b[0;34m)\u001b[0m\u001b[0;34m\u001b[0m\u001b[0;34m\u001b[0m\u001b[0m\n\u001b[0;32m---> 14\u001b[0;31m             \u001b[0minput_values\u001b[0m\u001b[0;34m[\u001b[0m\u001b[0mi\u001b[0m\u001b[0;34m,\u001b[0m \u001b[0mrow\u001b[0m\u001b[0;34m,\u001b[0m \u001b[0mcol\u001b[0m\u001b[0;34m,\u001b[0m \u001b[0mvalue\u001b[0m\u001b[0;34m-\u001b[0m\u001b[0;36m1\u001b[0m\u001b[0;34m]\u001b[0m \u001b[0;34m=\u001b[0m \u001b[0;36m1\u001b[0m\u001b[0;34m\u001b[0m\u001b[0;34m\u001b[0m\u001b[0m\n\u001b[0m\u001b[1;32m     15\u001b[0m             \u001b[0mtarget_values\u001b[0m\u001b[0;34m[\u001b[0m\u001b[0mi\u001b[0m\u001b[0;34m,\u001b[0m \u001b[0mrow\u001b[0m\u001b[0;34m,\u001b[0m \u001b[0mcol\u001b[0m\u001b[0;34m,\u001b[0m \u001b[0mvalue\u001b[0m\u001b[0;34m-\u001b[0m\u001b[0;36m1\u001b[0m\u001b[0;34m]\u001b[0m \u001b[0;34m=\u001b[0m \u001b[0;36m1\u001b[0m\u001b[0;34m\u001b[0m\u001b[0;34m\u001b[0m\u001b[0m\n",
            "\u001b[0;31mTypeError\u001b[0m: unsupported operand type(s) for -: 'str' and 'int'"
          ]
        }
      ],
      "source": []
    },
    {
      "cell_type": "code",
      "execution_count": null,
      "metadata": {
        "id": "okm4WiujQBiZ"
      },
      "outputs": [],
      "source": [
        "#Auxiliary Function Used\n",
        "#Verma, S. (2022). shivaverma/Sudoku-Solver. [online] GitHub. Available at: https://github.com/shivaverma/Sudoku-Solver [Accessed 4 May 2023].\n",
        "\n",
        "from sklearn.model_selection import train_test_split\n",
        "import torch.utils.data as data\n",
        "import torch\n",
        "def get_data(file):\n",
        "\n",
        "    data = pd.read_csv(file)\n",
        "\n",
        "    feat_raw = data['quizzes']\n",
        "    label_raw = data['solutions']\n",
        "\n",
        "    feat = []\n",
        "    label = []\n",
        "\n",
        "    for i in feat_raw:\n",
        "\n",
        "        x = np.array([int(j) for j in i]).reshape((9,9,1))\n",
        "        feat.append(x)\n",
        "\n",
        "    feat = np.array(feat)\n",
        "    feat = feat/9\n",
        "    feat -= .5\n",
        "\n",
        "    for i in label_raw:\n",
        "\n",
        "        x = np.array([int(j) for j in i]).reshape((81, 1)) - 1\n",
        "        label.append(x)\n",
        "\n",
        "    label = np.array(label)\n",
        "    del(feat_raw)\n",
        "    del(label_raw)\n",
        "\n",
        "    x_train, x_test, y_train, y_test = train_test_split(feat, label, test_size=0.2, random_state=42)\n",
        "\n",
        "    return x_train, x_test, y_train, y_test\n",
        "\n",
        "x_train, x_test, y_train, y_test = get_data(\"/content/drive/MyDrive/Dissertation/sudoku.csv\")"
      ]
    },
    {
      "cell_type": "code",
      "execution_count": null,
      "metadata": {
        "id": "HJHw7MDK6ToH"
      },
      "outputs": [],
      "source": [
        "from tensorflow.keras.models import Sequential\n",
        "from tensorflow.keras.layers import InputLayer, Dense, Flatten, Reshape\n",
        "\n",
        "model = Sequential()\n",
        "\n",
        "model.add(layers.LSTM(input_shape = (9,9), units = 81))\n",
        "\n",
        "model.add(layers.Flatten())\n",
        "model.add(layers.Reshape((81,1)))\n",
        "model.add(layers.Dense(9))\n",
        "model.add(layers.Dense(81*9))\n",
        "model.add(layers.Dense(9, activation = 'softmax'))\n",
        "\n",
        "model.add(layers.Dropout(0.1))\n"
      ]
    },
    {
      "cell_type": "code",
      "source": [
        "model.summary()"
      ],
      "metadata": {
        "colab": {
          "base_uri": "https://localhost:8080/"
        },
        "id": "2DPootp3_Rjn",
        "outputId": "c58b85c8-7d4e-46a6-e7d2-869e15d8fa80"
      },
      "execution_count": null,
      "outputs": [
        {
          "output_type": "stream",
          "name": "stdout",
          "text": [
            "Model: \"sequential\"\n",
            "_________________________________________________________________\n",
            " Layer (type)                Output Shape              Param #   \n",
            "=================================================================\n",
            " lstm (LSTM)                 (None, 81)                29484     \n",
            "                                                                 \n",
            " flatten (Flatten)           (None, 81)                0         \n",
            "                                                                 \n",
            " reshape (Reshape)           (None, 81, 1)             0         \n",
            "                                                                 \n",
            " dense (Dense)               (None, 81, 9)             18        \n",
            "                                                                 \n",
            " dense_1 (Dense)             (None, 81, 729)           7290      \n",
            "                                                                 \n",
            " dense_2 (Dense)             (None, 81, 9)             6570      \n",
            "                                                                 \n",
            " dropout (Dropout)           (None, 81, 9)             0         \n",
            "                                                                 \n",
            "=================================================================\n",
            "Total params: 43,362\n",
            "Trainable params: 43,362\n",
            "Non-trainable params: 0\n",
            "_________________________________________________________________\n"
          ]
        }
      ]
    },
    {
      "cell_type": "code",
      "execution_count": null,
      "metadata": {
        "id": "33040m9j3sRI"
      },
      "outputs": [],
      "source": [
        "model.compile(\n",
        "    loss=keras.losses.SparseCategoricalCrossentropy(from_logits=True),\n",
        "    optimizer=\"adam\",\n",
        "    metrics=[\"accuracy\"],\n",
        ")"
      ]
    },
    {
      "cell_type": "code",
      "execution_count": null,
      "metadata": {
        "colab": {
          "base_uri": "https://localhost:8080/"
        },
        "id": "Nhctm7D1AYbc",
        "outputId": "da14b0b8-d3dd-46c3-c9b2-329f6fcc8ee2"
      },
      "outputs": [
        {
          "output_type": "stream",
          "name": "stdout",
          "text": [
            "Epoch 1/10\n",
            "6250/6250 [==============================] - 39s 5ms/step - loss: 2.1013 - accuracy: 0.2390 - val_loss: 2.0320 - val_accuracy: 0.3336\n",
            "Epoch 2/10\n",
            "6250/6250 [==============================] - 32s 5ms/step - loss: 2.0151 - accuracy: 0.3206 - val_loss: 1.9952 - val_accuracy: 0.3515\n",
            "Epoch 3/10\n",
            "6250/6250 [==============================] - 32s 5ms/step - loss: 1.9859 - accuracy: 0.3440 - val_loss: 1.9724 - val_accuracy: 0.3725\n",
            "Epoch 4/10\n",
            "6250/6250 [==============================] - 32s 5ms/step - loss: 1.9697 - accuracy: 0.3543 - val_loss: 1.9582 - val_accuracy: 0.3843\n",
            "Epoch 5/10\n",
            "6250/6250 [==============================] - 32s 5ms/step - loss: 1.9679 - accuracy: 0.3542 - val_loss: 1.9613 - val_accuracy: 0.3812\n",
            "Epoch 6/10\n",
            "6250/6250 [==============================] - 32s 5ms/step - loss: 1.9691 - accuracy: 0.3526 - val_loss: 1.9577 - val_accuracy: 0.3885\n",
            "Epoch 7/10\n",
            "6250/6250 [==============================] - 32s 5ms/step - loss: 1.9646 - accuracy: 0.3565 - val_loss: 1.9576 - val_accuracy: 0.3836\n",
            "Epoch 8/10\n",
            "6250/6250 [==============================] - 32s 5ms/step - loss: 1.9626 - accuracy: 0.3582 - val_loss: 1.9544 - val_accuracy: 0.3964\n",
            "Epoch 9/10\n",
            "6250/6250 [==============================] - 37s 6ms/step - loss: 1.9587 - accuracy: 0.3613 - val_loss: 1.9528 - val_accuracy: 0.3872\n",
            "Epoch 10/10\n",
            "6250/6250 [==============================] - 32s 5ms/step - loss: 1.9585 - accuracy: 0.3615 - val_loss: 1.9520 - val_accuracy: 0.3888\n"
          ]
        },
        {
          "output_type": "execute_result",
          "data": {
            "text/plain": [
              "<keras.callbacks.History at 0x7f225f022440>"
            ]
          },
          "metadata": {},
          "execution_count": 8
        }
      ],
      "source": [
        "model.fit(x_train, y_train, validation_data = (x_test, y_test), batch_size = 128, epochs=10)"
      ]
    },
    {
      "cell_type": "markdown",
      "source": [],
      "metadata": {
        "id": "a1gGsmqnJ27d"
      }
    },
    {
      "cell_type": "code",
      "source": [
        "model.save(\"my_model_RNN.h5\", include_optimizer=True)\n"
      ],
      "metadata": {
        "id": "fOzrfWSWFD9r"
      },
      "execution_count": null,
      "outputs": []
    }
  ],
  "metadata": {
    "accelerator": "GPU",
    "colab": {
      "machine_shape": "hm",
      "provenance": [],
      "authorship_tag": "ABX9TyOyHzBY2kSzWNn/lpFOjpuH",
      "include_colab_link": true
    },
    "gpuClass": "standard",
    "kernelspec": {
      "display_name": "Python 3",
      "name": "python3"
    },
    "language_info": {
      "name": "python"
    }
  },
  "nbformat": 4,
  "nbformat_minor": 0
}